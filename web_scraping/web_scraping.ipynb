{
 "cells": [
  {
   "cell_type": "code",
   "execution_count": 1,
   "metadata": {},
   "outputs": [],
   "source": [
    "from web_scraping import *\n"
   ]
  },
  {
   "cell_type": "code",
   "execution_count": 2,
   "metadata": {},
   "outputs": [
    {
     "data": {
      "text/html": [
       "<div>\n",
       "<style scoped>\n",
       "    .dataframe tbody tr th:only-of-type {\n",
       "        vertical-align: middle;\n",
       "    }\n",
       "\n",
       "    .dataframe tbody tr th {\n",
       "        vertical-align: top;\n",
       "    }\n",
       "\n",
       "    .dataframe thead th {\n",
       "        text-align: right;\n",
       "    }\n",
       "</style>\n",
       "<table border=\"1\" class=\"dataframe\">\n",
       "  <thead>\n",
       "    <tr style=\"text-align: right;\">\n",
       "      <th></th>\n",
       "      <th>URL</th>\n",
       "      <th>Content</th>\n",
       "    </tr>\n",
       "  </thead>\n",
       "  <tbody>\n",
       "    <tr>\n",
       "      <th>0</th>\n",
       "      <td>https://www.wsj.com/</td>\n",
       "      <td>Explore Our Brands WSJ Barron's MarketWatch IB...</td>\n",
       "    </tr>\n",
       "    <tr>\n",
       "      <th>1</th>\n",
       "      <td>https://www.ft.com/</td>\n",
       "      <td>S&amp;P 500 + 0.17% Shanghai Minus − 0.68% FTSE 10...</td>\n",
       "    </tr>\n",
       "    <tr>\n",
       "      <th>2</th>\n",
       "      <td>https://edition.cnn.com/</td>\n",
       "      <td>No    Your CNN account Log in to your CNN acco...</td>\n",
       "    </tr>\n",
       "  </tbody>\n",
       "</table>\n",
       "</div>"
      ],
      "text/plain": [
       "                        URL                                            Content\n",
       "0      https://www.wsj.com/  Explore Our Brands WSJ Barron's MarketWatch IB...\n",
       "1       https://www.ft.com/  S&P 500 + 0.17% Shanghai Minus − 0.68% FTSE 10...\n",
       "2  https://edition.cnn.com/  No    Your CNN account Log in to your CNN acco..."
      ]
     },
     "execution_count": 2,
     "metadata": {},
     "output_type": "execute_result"
    }
   ],
   "source": [
    "url_list = [\"https://www.wsj.com/\", \"https://www.ft.com/\", \"https://edition.cnn.com/\"]\n",
    "\n",
    "content_df = pd.DataFrame(columns= [\"URL\", \"Content\"])\n",
    "\n",
    "for url in url_list:\n",
    "    url_df = extract_url_content_df([url])\n",
    "    content_df = pd.concat([content_df,url_df], ignore_index=True)\n",
    "\n",
    "content_df"
   ]
  }
 ],
 "metadata": {
  "kernelspec": {
   "display_name": "Python 3",
   "language": "python",
   "name": "python3"
  },
  "language_info": {
   "codemirror_mode": {
    "name": "ipython",
    "version": 3
   },
   "file_extension": ".py",
   "mimetype": "text/x-python",
   "name": "python",
   "nbconvert_exporter": "python",
   "pygments_lexer": "ipython3",
   "version": "3.11.5"
  },
  "orig_nbformat": 4
 },
 "nbformat": 4,
 "nbformat_minor": 2
}
