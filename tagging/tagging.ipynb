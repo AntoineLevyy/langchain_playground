{
 "cells": [
  {
   "cell_type": "code",
   "execution_count": 19,
   "metadata": {},
   "outputs": [],
   "source": [
    "import os\n",
    "from dotenv import load_dotenv\n",
    "import sys\n",
    "\n",
    "\n",
    "from langchain.chains import create_tagging_chain, create_tagging_chain_pydantic\n",
    "from langchain.chat_models import ChatOpenAI\n",
    "\n",
    "\n",
    "from web_scraping.web_scraping import *\n"
   ]
  },
  {
   "cell_type": "code",
   "execution_count": 20,
   "metadata": {},
   "outputs": [],
   "source": [
    "#defining what we want tagged with the Schema\n",
    "schema = {\n",
    "    \"properties\": {\n",
    "        \"summary\": {\"type\":\"string\"},\n",
    "        \"sentiment\" :{\"type\": \"string\"}\n",
    "       \n",
    "    }\n",
    "}\n",
    "\n",
    "#defining the model\n",
    "openai_api_key = os.getenv(\"openai_api_key\")\n",
    "llm = ChatOpenAI(temperature=0, model=\"gpt-3.5-turbo-0613\", openai_api_key=openai_api_key)\n",
    "chain = create_tagging_chain(schema, llm)"
   ]
  },
  {
   "cell_type": "code",
   "execution_count": 29,
   "metadata": {},
   "outputs": [],
   "source": [
    "path_to_webscraping= '/Users/antoinelevy/Documents/code/ai_playground/langchain_playground'\n",
    "sys.path.append(path_to_webscraping)\n",
    "content = extract_url_content_df([\"https://theestablishingshot.org/2023/10/anatomy-of-a-fall-is-a-disturbing-mystery-about-the-death-of-a-marriage/\"])[\"Content\"][0]"
   ]
  },
  {
   "cell_type": "code",
   "execution_count": 30,
   "metadata": {},
   "outputs": [
    {
     "data": {
      "text/plain": [
       "{'summary': '“ANATOMY OF A FALL” IS A DISTURBING MYSTERY ABOUT THE DEATH OF A MARRIAGE',\n",
       " 'sentiment': 'negative'}"
      ]
     },
     "execution_count": 30,
     "metadata": {},
     "output_type": "execute_result"
    }
   ],
   "source": [
    "inp = content\n",
    "chain.run(inp)"
   ]
  }
 ],
 "metadata": {
  "kernelspec": {
   "display_name": "Python 3",
   "language": "python",
   "name": "python3"
  },
  "language_info": {
   "codemirror_mode": {
    "name": "ipython",
    "version": 3
   },
   "file_extension": ".py",
   "mimetype": "text/x-python",
   "name": "python",
   "nbconvert_exporter": "python",
   "pygments_lexer": "ipython3",
   "version": "3.11.5"
  },
  "orig_nbformat": 4
 },
 "nbformat": 4,
 "nbformat_minor": 2
}
