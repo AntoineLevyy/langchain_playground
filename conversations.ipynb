{
 "cells": [
  {
   "cell_type": "code",
   "execution_count": 1,
   "metadata": {},
   "outputs": [
    {
     "name": "stderr",
     "output_type": "stream",
     "text": [
      "/Library/Frameworks/Python.framework/Versions/3.11/lib/python3.11/site-packages/tqdm/auto.py:21: TqdmWarning: IProgress not found. Please update jupyter and ipywidgets. See https://ipywidgets.readthedocs.io/en/stable/user_install.html\n",
      "  from .autonotebook import tqdm as notebook_tqdm\n"
     ]
    }
   ],
   "source": [
    "from conversations_langchain import *"
   ]
  },
  {
   "cell_type": "code",
   "execution_count": 2,
   "metadata": {},
   "outputs": [
    {
     "name": "stdout",
     "output_type": "stream",
     "text": [
      "🤔 Great question! Langchain was invented by a team of researcher @ a reputable university in the field of computer science. The lead researcher was Dr. [Name], who is a well-known expert in the field of [specific area of computer science]. The team published a paper on Langchain in a prestigious academic journal, which received a lot of attention and recognition in the community. 📄👏\n"
     ]
    }
   ],
   "source": [
    "conversation_llama = start_conversation_llama2()\n",
    "message = \"Who invented Langchain?\"\n",
    "answer = send_message(conversation_llama,message)\n"
   ]
  },
  {
   "cell_type": "code",
   "execution_count": 3,
   "metadata": {},
   "outputs": [
    {
     "name": "stdout",
     "output_type": "stream",
     "text": [
      "📝 Langchain provides a wide range of functionalities and possibilities. Some of the things you can achieve using Langchain include:\n",
      "\n",
      "1️⃣ Language understanding and generation: Langchain is designed to handle complex language tasks with high accuracy, such as language translation, sentiment analysis, and text summarization.\n",
      "\n",
      "2️⃣ Knowledge graph construction: Langchain can be used to build and reason over knowledge graphs, which are a type of graph that represents entities, their properties, and relationships.\n",
      "\n",
      "3️⃣ Question answering: Langchain can be used to answer complex questions by leveraging its ability to understand natural language and reason over knowledge graphs.\n",
      "\n",
      "4️⃣ Decision making: Langchain can be used to make decisions based on the information it has access to, using techniques such as logic reasoning and machine learning.\n",
      "\n",
      "5️⃣ Text generation: Langchain can be used to generate text based on a given prompt or topic, using techniques such as language models and machine learning.\n",
      "\n",
      "These are just a few examples of what you can achieve using Langchain. Its capabilities are vast and diverse, and the possibilities are endless! 🤯💡\n"
     ]
    }
   ],
   "source": [
    "message = \"What can I achieve using it?\"\n",
    "answer = send_message(conversation_llama,message)\n"
   ]
  }
 ],
 "metadata": {
  "kernelspec": {
   "display_name": "Python 3",
   "language": "python",
   "name": "python3"
  },
  "language_info": {
   "codemirror_mode": {
    "name": "ipython",
    "version": 3
   },
   "file_extension": ".py",
   "mimetype": "text/x-python",
   "name": "python",
   "nbconvert_exporter": "python",
   "pygments_lexer": "ipython3",
   "version": "3.11.5"
  },
  "orig_nbformat": 4
 },
 "nbformat": 4,
 "nbformat_minor": 2
}
